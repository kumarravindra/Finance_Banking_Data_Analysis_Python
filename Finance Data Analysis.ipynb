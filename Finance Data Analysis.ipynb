{
 "cells": [
  {
   "cell_type": "markdown",
   "metadata": {},
   "source": [
    "# Finance Data Analysis\n",
    "\n",
    "In this data project we will focus on exploratory data analysis of stock prices.This project is just meant to practice visualization and pandas skills, it is not meant to be a robust financial analysis or be taken as financial advice.\n",
    "\n",
    "We'll focus on bank stocks and see how they progressed throughout the financial crisis all the way to early 2016."
   ]
  },
  {
   "cell_type": "markdown",
   "metadata": {},
   "source": [
    "# Get the Data\n",
    "\n",
    "In this section we will learn how to use pandas to directly read data from Google finance using pandas!\n",
    "\n",
    "We will need to install pandas-datareader for this to work! Pandas datareader allows us to read stock information directly from the internet. To install use pip install pandas-datareader or other required commands.\n"
   ]
  },
  {
   "cell_type": "code",
   "execution_count": 14,
   "metadata": {},
   "outputs": [],
   "source": [
    "from pandas_datareader import data, wb\n",
    "import pandas as pd\n",
    "import numpy as np\n",
    "import datetime\n",
    "%matplotlib inline"
   ]
  },
  {
   "cell_type": "markdown",
   "metadata": {},
   "source": [
    "Data\n",
    "\n",
    "We need to get data using pandas datareader. We will get stock information for the following banks:\n",
    "\n",
    "Bank of America\n",
    "CitiGroup\n",
    "Goldman Sachs\n",
    "JPMorgan Chase\n",
    "Morgan Stanley\n",
    "Wells Fargo\n",
    "\n",
    "\n",
    "We need to figure out how to get the stock data from Jan 1st 2006 to Jan 1st 2016 for each of these banks. Let set each bank to be a separate dataframe, with the variable name for that bank being its ticker symbol. \n",
    "This will involve a few stepsbelow steps:\n",
    "\n",
    "Use datetime to set start and end datetime objects.\n",
    "Figure out the ticker symbol for each bank.\n",
    "Figure out how to use datareader to grab info on the stock.\n",
    "\n",
    "Use this link (https://pandas-datareader.readthedocs.io/en/latest/remote_data.html)for hints and instructions (it should just be a matter of replacing certain values. Use stooq for finance as a source.\n"
   ]
  },
  {
   "cell_type": "code",
   "execution_count": 15,
   "metadata": {},
   "outputs": [],
   "source": [
    "start = datetime.datetime(2006, 1, 1)\n",
    "end = datetime.datetime(2016, 1, 1)"
   ]
  },
  {
   "cell_type": "code",
   "execution_count": 21,
   "metadata": {},
   "outputs": [],
   "source": [
    "# Bank of America\n",
    "BAC = data.DataReader(\"BAC\", 'stooq', start, end)\n",
    "\n",
    "# CitiGroup\n",
    "C = data.DataReader(\"C\", 'stooq', start, end)\n",
    "\n",
    "# Goldman Sachs\n",
    "GS = data.DataReader(\"GS\", 'stooq', start, end)\n",
    "\n",
    "# JPMorgan Chase\n",
    "JPM = data.DataReader(\"JPM\", 'stooq', start, end)\n",
    "\n",
    "# Morgan Stanley\n",
    "MS = data.DataReader(\"MS\", 'stooq', start, end)\n",
    "\n",
    "# Wells Fargo\n",
    "WFC = data.DataReader(\"WFC\", 'stooq', start, end)"
   ]
  },
  {
   "cell_type": "code",
   "execution_count": 27,
   "metadata": {},
   "outputs": [],
   "source": [
    "# We can do it for Panel Object\n",
    "df = data.DataReader(['BAC', 'C', 'GS', 'JPM', 'MS', 'WFC'],'stooq', start, end)"
   ]
  },
  {
   "cell_type": "markdown",
   "metadata": {},
   "source": [
    "Create a list of the ticker symbols (as strings) in alphabetical order. Call this list: tickers"
   ]
  },
  {
   "cell_type": "code",
   "execution_count": 29,
   "metadata": {},
   "outputs": [],
   "source": [
    "tickers = ['BAC', 'C', 'GS', 'JPM', 'MS', 'WFC']"
   ]
  },
  {
   "cell_type": "markdown",
   "metadata": {},
   "source": [
    "We will use pd.concat to concatenate the bank dataframes together to a single data frame called bank_stocks. Set the keys argument equal to the tickers list."
   ]
  },
  {
   "cell_type": "code",
   "execution_count": 30,
   "metadata": {},
   "outputs": [],
   "source": [
    "bank_stocks = pd.concat([BAC, C, GS, JPM, MS, WFC],axis=1,keys=tickers)"
   ]
  },
  {
   "cell_type": "markdown",
   "metadata": {},
   "source": [
    "Set the column name levels."
   ]
  },
  {
   "cell_type": "code",
   "execution_count": 25,
   "metadata": {},
   "outputs": [],
   "source": [
    "bank_stocks.columns.names = ['Bank Ticker','Stock Info']"
   ]
  },
  {
   "cell_type": "code",
   "execution_count": 26,
   "metadata": {},
   "outputs": [
    {
     "data": {
      "text/html": [
       "<div>\n",
       "<style scoped>\n",
       "    .dataframe tbody tr th:only-of-type {\n",
       "        vertical-align: middle;\n",
       "    }\n",
       "\n",
       "    .dataframe tbody tr th {\n",
       "        vertical-align: top;\n",
       "    }\n",
       "\n",
       "    .dataframe thead tr th {\n",
       "        text-align: left;\n",
       "    }\n",
       "\n",
       "    .dataframe thead tr:last-of-type th {\n",
       "        text-align: right;\n",
       "    }\n",
       "</style>\n",
       "<table border=\"1\" class=\"dataframe\">\n",
       "  <thead>\n",
       "    <tr>\n",
       "      <th>Bank Ticker</th>\n",
       "      <th colspan=\"5\" halign=\"left\">BAC</th>\n",
       "      <th colspan=\"5\" halign=\"left\">C</th>\n",
       "      <th>...</th>\n",
       "      <th colspan=\"5\" halign=\"left\">MS</th>\n",
       "      <th colspan=\"5\" halign=\"left\">WFC</th>\n",
       "    </tr>\n",
       "    <tr>\n",
       "      <th>Stock Info</th>\n",
       "      <th>Open</th>\n",
       "      <th>High</th>\n",
       "      <th>Low</th>\n",
       "      <th>Close</th>\n",
       "      <th>Volume</th>\n",
       "      <th>Open</th>\n",
       "      <th>High</th>\n",
       "      <th>Low</th>\n",
       "      <th>Close</th>\n",
       "      <th>Volume</th>\n",
       "      <th>...</th>\n",
       "      <th>Open</th>\n",
       "      <th>High</th>\n",
       "      <th>Low</th>\n",
       "      <th>Close</th>\n",
       "      <th>Volume</th>\n",
       "      <th>Open</th>\n",
       "      <th>High</th>\n",
       "      <th>Low</th>\n",
       "      <th>Close</th>\n",
       "      <th>Volume</th>\n",
       "    </tr>\n",
       "    <tr>\n",
       "      <th>Date</th>\n",
       "      <th></th>\n",
       "      <th></th>\n",
       "      <th></th>\n",
       "      <th></th>\n",
       "      <th></th>\n",
       "      <th></th>\n",
       "      <th></th>\n",
       "      <th></th>\n",
       "      <th></th>\n",
       "      <th></th>\n",
       "      <th></th>\n",
       "      <th></th>\n",
       "      <th></th>\n",
       "      <th></th>\n",
       "      <th></th>\n",
       "      <th></th>\n",
       "      <th></th>\n",
       "      <th></th>\n",
       "      <th></th>\n",
       "      <th></th>\n",
       "      <th></th>\n",
       "    </tr>\n",
       "  </thead>\n",
       "  <tbody>\n",
       "    <tr>\n",
       "      <th>2019-12-27</th>\n",
       "      <td>35.70</td>\n",
       "      <td>35.7200</td>\n",
       "      <td>35.26</td>\n",
       "      <td>35.35</td>\n",
       "      <td>28121039</td>\n",
       "      <td>80.00</td>\n",
       "      <td>80.18</td>\n",
       "      <td>79.58</td>\n",
       "      <td>79.67</td>\n",
       "      <td>10867891</td>\n",
       "      <td>...</td>\n",
       "      <td>51.33</td>\n",
       "      <td>51.33</td>\n",
       "      <td>50.925</td>\n",
       "      <td>51.09</td>\n",
       "      <td>4117109</td>\n",
       "      <td>54.29</td>\n",
       "      <td>54.32</td>\n",
       "      <td>53.865</td>\n",
       "      <td>53.92</td>\n",
       "      <td>9892762</td>\n",
       "    </tr>\n",
       "    <tr>\n",
       "      <th>2019-12-26</th>\n",
       "      <td>35.32</td>\n",
       "      <td>35.5600</td>\n",
       "      <td>35.29</td>\n",
       "      <td>35.52</td>\n",
       "      <td>27007296</td>\n",
       "      <td>78.75</td>\n",
       "      <td>79.84</td>\n",
       "      <td>78.65</td>\n",
       "      <td>79.83</td>\n",
       "      <td>11996442</td>\n",
       "      <td>...</td>\n",
       "      <td>50.97</td>\n",
       "      <td>51.29</td>\n",
       "      <td>50.860</td>\n",
       "      <td>51.11</td>\n",
       "      <td>5517449</td>\n",
       "      <td>54.05</td>\n",
       "      <td>54.39</td>\n",
       "      <td>53.950</td>\n",
       "      <td>54.15</td>\n",
       "      <td>12517137</td>\n",
       "    </tr>\n",
       "    <tr>\n",
       "      <th>2019-12-24</th>\n",
       "      <td>35.19</td>\n",
       "      <td>35.2799</td>\n",
       "      <td>35.12</td>\n",
       "      <td>35.22</td>\n",
       "      <td>13805366</td>\n",
       "      <td>78.70</td>\n",
       "      <td>78.94</td>\n",
       "      <td>78.46</td>\n",
       "      <td>78.59</td>\n",
       "      <td>4576212</td>\n",
       "      <td>...</td>\n",
       "      <td>50.83</td>\n",
       "      <td>50.93</td>\n",
       "      <td>50.570</td>\n",
       "      <td>50.69</td>\n",
       "      <td>2087767</td>\n",
       "      <td>53.95</td>\n",
       "      <td>54.04</td>\n",
       "      <td>53.735</td>\n",
       "      <td>53.82</td>\n",
       "      <td>4635459</td>\n",
       "    </tr>\n",
       "    <tr>\n",
       "      <th>2019-12-23</th>\n",
       "      <td>35.04</td>\n",
       "      <td>35.1900</td>\n",
       "      <td>34.95</td>\n",
       "      <td>35.17</td>\n",
       "      <td>34016757</td>\n",
       "      <td>78.67</td>\n",
       "      <td>78.97</td>\n",
       "      <td>78.44</td>\n",
       "      <td>78.76</td>\n",
       "      <td>9258210</td>\n",
       "      <td>...</td>\n",
       "      <td>50.91</td>\n",
       "      <td>51.10</td>\n",
       "      <td>50.710</td>\n",
       "      <td>50.72</td>\n",
       "      <td>6547641</td>\n",
       "      <td>53.34</td>\n",
       "      <td>54.00</td>\n",
       "      <td>53.250</td>\n",
       "      <td>53.81</td>\n",
       "      <td>17638360</td>\n",
       "    </tr>\n",
       "    <tr>\n",
       "      <th>2019-12-20</th>\n",
       "      <td>35.24</td>\n",
       "      <td>35.2400</td>\n",
       "      <td>34.91</td>\n",
       "      <td>34.96</td>\n",
       "      <td>109405592</td>\n",
       "      <td>78.94</td>\n",
       "      <td>79.05</td>\n",
       "      <td>78.04</td>\n",
       "      <td>78.51</td>\n",
       "      <td>32019420</td>\n",
       "      <td>...</td>\n",
       "      <td>51.44</td>\n",
       "      <td>51.44</td>\n",
       "      <td>50.660</td>\n",
       "      <td>50.69</td>\n",
       "      <td>18743335</td>\n",
       "      <td>54.05</td>\n",
       "      <td>54.05</td>\n",
       "      <td>53.070</td>\n",
       "      <td>53.33</td>\n",
       "      <td>66323247</td>\n",
       "    </tr>\n",
       "  </tbody>\n",
       "</table>\n",
       "<p>5 rows × 30 columns</p>\n",
       "</div>"
      ],
      "text/plain": [
       "Bank Ticker    BAC                                        C                \\\n",
       "Stock Info    Open     High    Low  Close     Volume   Open   High    Low   \n",
       "Date                                                                        \n",
       "2019-12-27   35.70  35.7200  35.26  35.35   28121039  80.00  80.18  79.58   \n",
       "2019-12-26   35.32  35.5600  35.29  35.52   27007296  78.75  79.84  78.65   \n",
       "2019-12-24   35.19  35.2799  35.12  35.22   13805366  78.70  78.94  78.46   \n",
       "2019-12-23   35.04  35.1900  34.95  35.17   34016757  78.67  78.97  78.44   \n",
       "2019-12-20   35.24  35.2400  34.91  34.96  109405592  78.94  79.05  78.04   \n",
       "\n",
       "Bank Ticker                   ...     MS                                  \\\n",
       "Stock Info   Close    Volume  ...   Open   High     Low  Close    Volume   \n",
       "Date                          ...                                          \n",
       "2019-12-27   79.67  10867891  ...  51.33  51.33  50.925  51.09   4117109   \n",
       "2019-12-26   79.83  11996442  ...  50.97  51.29  50.860  51.11   5517449   \n",
       "2019-12-24   78.59   4576212  ...  50.83  50.93  50.570  50.69   2087767   \n",
       "2019-12-23   78.76   9258210  ...  50.91  51.10  50.710  50.72   6547641   \n",
       "2019-12-20   78.51  32019420  ...  51.44  51.44  50.660  50.69  18743335   \n",
       "\n",
       "Bank Ticker    WFC                                  \n",
       "Stock Info    Open   High     Low  Close    Volume  \n",
       "Date                                                \n",
       "2019-12-27   54.29  54.32  53.865  53.92   9892762  \n",
       "2019-12-26   54.05  54.39  53.950  54.15  12517137  \n",
       "2019-12-24   53.95  54.04  53.735  53.82   4635459  \n",
       "2019-12-23   53.34  54.00  53.250  53.81  17638360  \n",
       "2019-12-20   54.05  54.05  53.070  53.33  66323247  \n",
       "\n",
       "[5 rows x 30 columns]"
      ]
     },
     "execution_count": 26,
     "metadata": {},
     "output_type": "execute_result"
    }
   ],
   "source": [
    "bank_stocks.head()"
   ]
  },
  {
   "cell_type": "markdown",
   "metadata": {},
   "source": [
    "Let's explore the data a bit! \n",
    "What is the max Close price for each bank's stock throughout the time period?"
   ]
  },
  {
   "cell_type": "code",
   "execution_count": 33,
   "metadata": {},
   "outputs": [
    {
     "ename": "KeyError",
     "evalue": "'Level Stock Info not found'",
     "output_type": "error",
     "traceback": [
      "\u001b[0;31m---------------------------------------------------------------------------\u001b[0m",
      "\u001b[0;31mValueError\u001b[0m                                Traceback (most recent call last)",
      "\u001b[0;32m/Library/Frameworks/Python.framework/Versions/3.7/lib/python3.7/site-packages/pandas/core/indexes/multi.py\u001b[0m in \u001b[0;36m_get_level_number\u001b[0;34m(self, level)\u001b[0m\n\u001b[1;32m   1294\u001b[0m         \u001b[0;32mtry\u001b[0m\u001b[0;34m:\u001b[0m\u001b[0;34m\u001b[0m\u001b[0m\n\u001b[0;32m-> 1295\u001b[0;31m             \u001b[0mlevel\u001b[0m \u001b[0;34m=\u001b[0m \u001b[0mself\u001b[0m\u001b[0;34m.\u001b[0m\u001b[0mnames\u001b[0m\u001b[0;34m.\u001b[0m\u001b[0mindex\u001b[0m\u001b[0;34m(\u001b[0m\u001b[0mlevel\u001b[0m\u001b[0;34m)\u001b[0m\u001b[0;34m\u001b[0m\u001b[0m\n\u001b[0m\u001b[1;32m   1296\u001b[0m         \u001b[0;32mexcept\u001b[0m \u001b[0mValueError\u001b[0m\u001b[0;34m:\u001b[0m\u001b[0;34m\u001b[0m\u001b[0m\n",
      "\u001b[0;31mValueError\u001b[0m: 'Stock Info' is not in list",
      "\nDuring handling of the above exception, another exception occurred:\n",
      "\u001b[0;31mKeyError\u001b[0m                                  Traceback (most recent call last)",
      "\u001b[0;32m<ipython-input-33-dc96c43b3e78>\u001b[0m in \u001b[0;36m<module>\u001b[0;34m\u001b[0m\n\u001b[0;32m----> 1\u001b[0;31m \u001b[0mbank_stocks\u001b[0m\u001b[0;34m.\u001b[0m\u001b[0mxs\u001b[0m\u001b[0;34m(\u001b[0m\u001b[0mkey\u001b[0m\u001b[0;34m=\u001b[0m\u001b[0;34m'Close'\u001b[0m\u001b[0;34m,\u001b[0m\u001b[0maxis\u001b[0m\u001b[0;34m=\u001b[0m\u001b[0;36m1\u001b[0m\u001b[0;34m,\u001b[0m\u001b[0mlevel\u001b[0m\u001b[0;34m=\u001b[0m\u001b[0;34m'Stock Info'\u001b[0m\u001b[0;34m)\u001b[0m\u001b[0;34m.\u001b[0m\u001b[0mmax\u001b[0m\u001b[0;34m(\u001b[0m\u001b[0;34m)\u001b[0m\u001b[0;34m\u001b[0m\u001b[0m\n\u001b[0m",
      "\u001b[0;32m/Library/Frameworks/Python.framework/Versions/3.7/lib/python3.7/site-packages/pandas/core/generic.py\u001b[0m in \u001b[0;36mxs\u001b[0;34m(self, key, axis, level, drop_level)\u001b[0m\n\u001b[1;32m   3715\u001b[0m         \u001b[0mlabels\u001b[0m \u001b[0;34m=\u001b[0m \u001b[0mself\u001b[0m\u001b[0;34m.\u001b[0m\u001b[0m_get_axis\u001b[0m\u001b[0;34m(\u001b[0m\u001b[0maxis\u001b[0m\u001b[0;34m)\u001b[0m\u001b[0;34m\u001b[0m\u001b[0m\n\u001b[1;32m   3716\u001b[0m         \u001b[0;32mif\u001b[0m \u001b[0mlevel\u001b[0m \u001b[0;32mis\u001b[0m \u001b[0;32mnot\u001b[0m \u001b[0;32mNone\u001b[0m\u001b[0;34m:\u001b[0m\u001b[0;34m\u001b[0m\u001b[0m\n\u001b[0;32m-> 3717\u001b[0;31m             \u001b[0mloc\u001b[0m\u001b[0;34m,\u001b[0m \u001b[0mnew_ax\u001b[0m \u001b[0;34m=\u001b[0m \u001b[0mlabels\u001b[0m\u001b[0;34m.\u001b[0m\u001b[0mget_loc_level\u001b[0m\u001b[0;34m(\u001b[0m\u001b[0mkey\u001b[0m\u001b[0;34m,\u001b[0m \u001b[0mlevel\u001b[0m\u001b[0;34m=\u001b[0m\u001b[0mlevel\u001b[0m\u001b[0;34m,\u001b[0m \u001b[0mdrop_level\u001b[0m\u001b[0;34m=\u001b[0m\u001b[0mdrop_level\u001b[0m\u001b[0;34m)\u001b[0m\u001b[0;34m\u001b[0m\u001b[0m\n\u001b[0m\u001b[1;32m   3718\u001b[0m \u001b[0;34m\u001b[0m\u001b[0m\n\u001b[1;32m   3719\u001b[0m             \u001b[0;31m# create the tuple of the indexer\u001b[0m\u001b[0;34m\u001b[0m\u001b[0;34m\u001b[0m\u001b[0m\n",
      "\u001b[0;32m/Library/Frameworks/Python.framework/Versions/3.7/lib/python3.7/site-packages/pandas/core/indexes/multi.py\u001b[0m in \u001b[0;36mget_loc_level\u001b[0;34m(self, key, level, drop_level)\u001b[0m\n\u001b[1;32m   2791\u001b[0m             \u001b[0;32mreturn\u001b[0m \u001b[0mresult\u001b[0m\u001b[0;34m,\u001b[0m \u001b[0mmaybe_droplevels\u001b[0m\u001b[0;34m(\u001b[0m\u001b[0mresult\u001b[0m\u001b[0;34m,\u001b[0m \u001b[0mlevel\u001b[0m\u001b[0;34m,\u001b[0m \u001b[0mdrop_level\u001b[0m\u001b[0;34m)\u001b[0m\u001b[0;34m\u001b[0m\u001b[0m\n\u001b[1;32m   2792\u001b[0m \u001b[0;34m\u001b[0m\u001b[0m\n\u001b[0;32m-> 2793\u001b[0;31m         \u001b[0mlevel\u001b[0m \u001b[0;34m=\u001b[0m \u001b[0mself\u001b[0m\u001b[0;34m.\u001b[0m\u001b[0m_get_level_number\u001b[0m\u001b[0;34m(\u001b[0m\u001b[0mlevel\u001b[0m\u001b[0;34m)\u001b[0m\u001b[0;34m\u001b[0m\u001b[0m\n\u001b[0m\u001b[1;32m   2794\u001b[0m \u001b[0;34m\u001b[0m\u001b[0m\n\u001b[1;32m   2795\u001b[0m         \u001b[0;31m# kludge for #1796\u001b[0m\u001b[0;34m\u001b[0m\u001b[0;34m\u001b[0m\u001b[0m\n",
      "\u001b[0;32m/Library/Frameworks/Python.framework/Versions/3.7/lib/python3.7/site-packages/pandas/core/indexes/multi.py\u001b[0m in \u001b[0;36m_get_level_number\u001b[0;34m(self, level)\u001b[0m\n\u001b[1;32m   1296\u001b[0m         \u001b[0;32mexcept\u001b[0m \u001b[0mValueError\u001b[0m\u001b[0;34m:\u001b[0m\u001b[0;34m\u001b[0m\u001b[0m\n\u001b[1;32m   1297\u001b[0m             \u001b[0;32mif\u001b[0m \u001b[0;32mnot\u001b[0m \u001b[0mis_integer\u001b[0m\u001b[0;34m(\u001b[0m\u001b[0mlevel\u001b[0m\u001b[0;34m)\u001b[0m\u001b[0;34m:\u001b[0m\u001b[0;34m\u001b[0m\u001b[0m\n\u001b[0;32m-> 1298\u001b[0;31m                 \u001b[0;32mraise\u001b[0m \u001b[0mKeyError\u001b[0m\u001b[0;34m(\u001b[0m\u001b[0;34m\"Level %s not found\"\u001b[0m \u001b[0;34m%\u001b[0m \u001b[0mstr\u001b[0m\u001b[0;34m(\u001b[0m\u001b[0mlevel\u001b[0m\u001b[0;34m)\u001b[0m\u001b[0;34m)\u001b[0m\u001b[0;34m\u001b[0m\u001b[0m\n\u001b[0m\u001b[1;32m   1299\u001b[0m             \u001b[0;32melif\u001b[0m \u001b[0mlevel\u001b[0m \u001b[0;34m<\u001b[0m \u001b[0;36m0\u001b[0m\u001b[0;34m:\u001b[0m\u001b[0;34m\u001b[0m\u001b[0m\n\u001b[1;32m   1300\u001b[0m                 \u001b[0mlevel\u001b[0m \u001b[0;34m+=\u001b[0m \u001b[0mself\u001b[0m\u001b[0;34m.\u001b[0m\u001b[0mnlevels\u001b[0m\u001b[0;34m\u001b[0m\u001b[0m\n",
      "\u001b[0;31mKeyError\u001b[0m: 'Level Stock Info not found'"
     ]
    }
   ],
   "source": [
    "bank_stocks.xs(key='Close',axis=1,level='Stock Info').max()"
   ]
  },
  {
   "cell_type": "code",
   "execution_count": null,
   "metadata": {},
   "outputs": [],
   "source": []
  }
 ],
 "metadata": {
  "kernelspec": {
   "display_name": "Python 3",
   "language": "python",
   "name": "python3"
  },
  "language_info": {
   "codemirror_mode": {
    "name": "ipython",
    "version": 3
   },
   "file_extension": ".py",
   "mimetype": "text/x-python",
   "name": "python",
   "nbconvert_exporter": "python",
   "pygments_lexer": "ipython3",
   "version": "3.7.0"
  }
 },
 "nbformat": 4,
 "nbformat_minor": 2
}
